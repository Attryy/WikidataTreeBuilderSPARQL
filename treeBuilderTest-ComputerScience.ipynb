{
 "cells": [
  {
   "cell_type": "code",
   "execution_count": 1,
   "metadata": {
    "collapsed": false
   },
   "outputs": [],
   "source": [
    "#!/usr/bin/python\n",
    "# -*- coding: utf-8 -*-\n",
    "\n",
    "from WikidataTreeBuilderSPARQL import WikidataTreeBuilder\n",
    "from WikidataEntityExplorer import WikidataGetEntities\n",
    "\n",
    "from datetime import datetime\n",
    "import pandas as pd\n",
    "import simplejson as json"
   ]
  },
  {
   "cell_type": "code",
   "execution_count": 2,
   "metadata": {
    "collapsed": false
   },
   "outputs": [
    {
     "name": "stdout",
     "output_type": "stream",
     "text": [
      "Program starts at 2017-07-11 16:51:29.313976\n"
     ]
    }
   ],
   "source": [
    "print(\"Program starts at \"+str(datetime.now()))"
   ]
  },
  {
   "cell_type": "markdown",
   "metadata": {},
   "source": [
    "Recursively explore the node 'Computer Science':"
   ]
  },
  {
   "cell_type": "code",
   "execution_count": 3,
   "metadata": {
    "collapsed": false,
    "scrolled": true
   },
   "outputs": [
    {
     "name": "stdout",
     "output_type": "stream",
     "text": [
      "Exploring 'Computer Science' start: 2017-07-11 16:51:29.328603\n",
      "Exploring 'Computer Science' end: 2017-07-11 16:51:33.719879\n"
     ]
    }
   ],
   "source": [
    "tree=WikidataTreeBuilder(keepTraceVisitedNodes=True)\n",
    "\n",
    "print(\"Exploring 'Computer Science' start: \"+str(datetime.now()))\n",
    "flareComputerScience=tree.fromRoot(root=(\"Q21198\",\"Computer Science\"),forbidden=[])\n",
    "print(\"Exploring 'Computer Science' end: \"+str(datetime.now()))\n",
    "\n",
    "# Save the extraction result\n",
    "with open(\"outputComputerScience.json\",\"w\") as f:\n",
    "    json.dump(flareComputerScience,f)"
   ]
  },
  {
   "cell_type": "markdown",
   "metadata": {},
   "source": [
    "Convert the nested flare to list, and import it to a pandas dataframe:"
   ]
  },
  {
   "cell_type": "code",
   "execution_count": 4,
   "metadata": {
    "collapsed": false
   },
   "outputs": [],
   "source": [
    "def nestedNodeExplore(nested):\n",
    "    if nested[\"name\"][0] != \"-1\":\n",
    "        flatFrame.append({\"id\":nested[\"name\"][0], \"name\":nested[\"name\"][1],\"visitedNodes\":nested[\"visitedNodes\"]})\n",
    "    for node in nested.get(\"children\",[]):\n",
    "        nestedNodeExplore(node)\n",
    "    return \"DONE\""
   ]
  },
  {
   "cell_type": "code",
   "execution_count": 5,
   "metadata": {
    "collapsed": false
   },
   "outputs": [
    {
     "data": {
      "text/html": [
       "<div>\n",
       "<table border=\"1\" class=\"dataframe\">\n",
       "  <thead>\n",
       "    <tr style=\"text-align: right;\">\n",
       "      <th></th>\n",
       "      <th>id</th>\n",
       "      <th>name</th>\n",
       "      <th>visitedNodes</th>\n",
       "    </tr>\n",
       "  </thead>\n",
       "  <tbody>\n",
       "    <tr>\n",
       "      <th>0</th>\n",
       "      <td>Q21198</td>\n",
       "      <td>Computer Science</td>\n",
       "      <td>()</td>\n",
       "    </tr>\n",
       "    <tr>\n",
       "      <th>1</th>\n",
       "      <td>Q2539</td>\n",
       "      <td>machine learning</td>\n",
       "      <td>(Q21198,)</td>\n",
       "    </tr>\n",
       "    <tr>\n",
       "      <th>2</th>\n",
       "      <td>Q334384</td>\n",
       "      <td>supervised learning</td>\n",
       "      <td>(Q21198, Q2539)</td>\n",
       "    </tr>\n",
       "    <tr>\n",
       "      <th>3</th>\n",
       "      <td>Q282453</td>\n",
       "      <td>Support vector machine</td>\n",
       "      <td>(Q21198, Q2539, Q334384)</td>\n",
       "    </tr>\n",
       "    <tr>\n",
       "      <th>4</th>\n",
       "      <td>Q910067</td>\n",
       "      <td>chemometrics</td>\n",
       "      <td>(Q21198, Q2539)</td>\n",
       "    </tr>\n",
       "  </tbody>\n",
       "</table>\n",
       "</div>"
      ],
      "text/plain": [
       "        id                    name              visitedNodes\n",
       "0   Q21198        Computer Science                        ()\n",
       "1    Q2539        machine learning                 (Q21198,)\n",
       "2  Q334384     supervised learning           (Q21198, Q2539)\n",
       "3  Q282453  Support vector machine  (Q21198, Q2539, Q334384)\n",
       "4  Q910067            chemometrics           (Q21198, Q2539)"
      ]
     },
     "execution_count": 5,
     "metadata": {},
     "output_type": "execute_result"
    }
   ],
   "source": [
    "flatFrame = list()\n",
    "nestedNodeExplore(flareComputerScience)\n",
    "df=pd.DataFrame(flatFrame)\n",
    "\n",
    "#convert to tuple because list is not hashable and drop_duplicates will fail\n",
    "df[\"visitedNodes\"]=df[\"visitedNodes\"].apply(lambda x:tuple(x))\n",
    "df=df.drop_duplicates()\n",
    "\n",
    "df.head()"
   ]
  },
  {
   "cell_type": "markdown",
   "metadata": {},
   "source": [
    "There are many paths from the root to \"Natural Language Processing\":"
   ]
  },
  {
   "cell_type": "code",
   "execution_count": 6,
   "metadata": {
    "collapsed": false
   },
   "outputs": [
    {
     "data": {
      "text/html": [
       "<div>\n",
       "<table border=\"1\" class=\"dataframe\">\n",
       "  <thead>\n",
       "    <tr style=\"text-align: right;\">\n",
       "      <th></th>\n",
       "      <th>id</th>\n",
       "      <th>name</th>\n",
       "      <th>visitedNodes</th>\n",
       "    </tr>\n",
       "  </thead>\n",
       "  <tbody>\n",
       "    <tr>\n",
       "      <th>28</th>\n",
       "      <td>Q30642</td>\n",
       "      <td>natural language processing</td>\n",
       "      <td>(Q21198,)</td>\n",
       "    </tr>\n",
       "    <tr>\n",
       "      <th>60</th>\n",
       "      <td>Q30642</td>\n",
       "      <td>natural language processing</td>\n",
       "      <td>(Q21198, Q182557)</td>\n",
       "    </tr>\n",
       "  </tbody>\n",
       "</table>\n",
       "</div>"
      ],
      "text/plain": [
       "        id                         name       visitedNodes\n",
       "28  Q30642  natural language processing          (Q21198,)\n",
       "60  Q30642  natural language processing  (Q21198, Q182557)"
      ]
     },
     "execution_count": 6,
     "metadata": {},
     "output_type": "execute_result"
    }
   ],
   "source": [
    "df[df[\"name\"]==\"natural language processing\"]"
   ]
  },
  {
   "cell_type": "markdown",
   "metadata": {},
   "source": [
    "For better readabilty of the result, we'll extract a conversion table from Q to name:"
   ]
  },
  {
   "cell_type": "code",
   "execution_count": 7,
   "metadata": {
    "collapsed": false
   },
   "outputs": [],
   "source": [
    "Q2name={item[\"id\"]:item['name'] for item in df.drop(\"visitedNodes\",1).to_dict(orient='records')}"
   ]
  },
  {
   "cell_type": "markdown",
   "metadata": {},
   "source": [
    "and make the 'visited nodes' column human-readable:"
   ]
  },
  {
   "cell_type": "code",
   "execution_count": 8,
   "metadata": {
    "collapsed": true
   },
   "outputs": [],
   "source": [
    "df[\"visitedNodes\"]=df[\"visitedNodes\"].apply(lambda x:tuple([(i,Q2name.get(i,i)) for i in x]))"
   ]
  },
  {
   "cell_type": "markdown",
   "metadata": {},
   "source": [
    "We will group all paths in a single entry:"
   ]
  },
  {
   "cell_type": "code",
   "execution_count": 9,
   "metadata": {
    "collapsed": false
   },
   "outputs": [],
   "source": [
    "grouped=df.groupby(\"id\").apply(lambda x:x.visitedNodes)\n",
    "df[\"visitedNodes\"]=df[\"id\"].apply(lambda x:tuple(grouped[x]))\n",
    "df=df.drop_duplicates()"
   ]
  },
  {
   "cell_type": "code",
   "execution_count": 10,
   "metadata": {
    "collapsed": false
   },
   "outputs": [
    {
     "data": {
      "text/html": [
       "<div>\n",
       "<table border=\"1\" class=\"dataframe\">\n",
       "  <thead>\n",
       "    <tr style=\"text-align: right;\">\n",
       "      <th></th>\n",
       "      <th>id</th>\n",
       "      <th>name</th>\n",
       "      <th>visitedNodes</th>\n",
       "    </tr>\n",
       "  </thead>\n",
       "  <tbody>\n",
       "    <tr>\n",
       "      <th>28</th>\n",
       "      <td>Q30642</td>\n",
       "      <td>natural language processing</td>\n",
       "      <td>(((Q21198, Computer Science),), ((Q21198, Comp...</td>\n",
       "    </tr>\n",
       "  </tbody>\n",
       "</table>\n",
       "</div>"
      ],
      "text/plain": [
       "        id                         name  \\\n",
       "28  Q30642  natural language processing   \n",
       "\n",
       "                                         visitedNodes  \n",
       "28  (((Q21198, Computer Science),), ((Q21198, Comp...  "
      ]
     },
     "execution_count": 10,
     "metadata": {},
     "output_type": "execute_result"
    }
   ],
   "source": [
    "df[df[\"name\"]==\"natural language processing\"]"
   ]
  },
  {
   "cell_type": "markdown",
   "metadata": {},
   "source": [
    "And now we will enrich the table with several other properties:"
   ]
  },
  {
   "cell_type": "code",
   "execution_count": 11,
   "metadata": {
    "collapsed": false
   },
   "outputs": [
    {
     "name": "stdout",
     "output_type": "stream",
     "text": [
      "Enriching database. Start : 2017-07-11 16:51:33.920598\n",
      "Enriching database. End : 2017-07-11 16:51:51.263014\n"
     ]
    }
   ],
   "source": [
    "getNewData=WikidataGetEntities()\n",
    "dfDict=df.to_dict(orient='records')\n",
    "dfUpdated=list ()\n",
    "print(\"Enriching database. Start : \"+str(datetime.now()))\n",
    "for item in dfDict:\n",
    "    item.update(getNewData.enrichTable(item))\n",
    "    dfUpdated.append(item)\n",
    "print(\"Enriching database. End : \"+str(datetime.now()))"
   ]
  },
  {
   "cell_type": "code",
   "execution_count": 12,
   "metadata": {
    "collapsed": false
   },
   "outputs": [],
   "source": [
    "df=pd.DataFrame(dfUpdated)\n",
    "df=df.fillna(\"\")"
   ]
  },
  {
   "cell_type": "markdown",
   "metadata": {},
   "source": [
    "Make several columns human-readable:"
   ]
  },
  {
   "cell_type": "code",
   "execution_count": 13,
   "metadata": {
    "collapsed": false
   },
   "outputs": [],
   "source": [
    "fillMissing=lambda c:getNewData.query(c).get(\"entities\",{}).get(c,{}).get(\"labels\",{}).get(\"en\",{}).get(\"value\",c)\n",
    "makeHumanReadable=lambda x:tuple([(i,Q2name.get(i,i)) if i in Q2name.keys() else (i,fillMissing(i))] for i in x)\n",
    "\n",
    "df[\"P306\"]=df[\"P306\"].apply(makeHumanReadable)\n",
    "df[\"P366\"]=df[\"P366\"].apply(makeHumanReadable)\n",
    "df[\"P277\"]=df[\"P277\"].apply(makeHumanReadable)\n",
    "df[\"P31\"]=df[\"P31\"].apply(makeHumanReadable)\n",
    "df[\"P275\"]=df[\"P275\"].apply(makeHumanReadable)\n",
    "df[\"P178\"]=df[\"P178\"].apply(makeHumanReadable)\n",
    "df[\"P101\"]=df[\"P101\"].apply(makeHumanReadable)\n",
    "df[\"P170\"]=df[\"P170\"].apply(makeHumanReadable)\n",
    "df[\"P1324\"]=df[\"P1324\"].apply(makeHumanReadable)"
   ]
  },
  {
   "cell_type": "markdown",
   "metadata": {},
   "source": [
    "Make column labels human-readable:"
   ]
  },
  {
   "cell_type": "code",
   "execution_count": 14,
   "metadata": {
    "collapsed": false
   },
   "outputs": [],
   "source": [
    "for c in df.columns:\n",
    "    label=fillMissing(c)\n",
    "    nc=c+(\" (\"+label+\")\")*(label != c)\n",
    "    df=df.rename(columns={c:nc})\n",
    "df=df.reindex_axis(sorted(df.columns,reverse=True), axis=1)"
   ]
  },
  {
   "cell_type": "code",
   "execution_count": 15,
   "metadata": {
    "collapsed": true
   },
   "outputs": [],
   "source": [
    "df.to_excel(\"ComputerScienceTable.xlsx\")"
   ]
  },
  {
   "cell_type": "code",
   "execution_count": 16,
   "metadata": {
    "collapsed": false
   },
   "outputs": [
    {
     "name": "stdout",
     "output_type": "stream",
     "text": [
      "Program ends at 2017-07-11 16:52:15.342681\n"
     ]
    }
   ],
   "source": [
    "print(\"Program ends at \"+str(datetime.now()))"
   ]
  }
 ],
 "metadata": {
  "anaconda-cloud": {},
  "kernelspec": {
   "display_name": "Python (oml)",
   "language": "python",
   "name": "oml"
  },
  "language_info": {
   "codemirror_mode": {
    "name": "ipython",
    "version": 2
   },
   "file_extension": ".py",
   "mimetype": "text/x-python",
   "name": "python",
   "nbconvert_exporter": "python",
   "pygments_lexer": "ipython2",
   "version": "2.7.12"
  }
 },
 "nbformat": 4,
 "nbformat_minor": 2
}
