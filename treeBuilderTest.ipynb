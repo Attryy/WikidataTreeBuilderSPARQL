{
 "cells": [
  {
   "cell_type": "code",
   "execution_count": null,
   "metadata": {
    "collapsed": false
   },
   "outputs": [],
   "source": [
    "#!/usr/bin/python\n",
    "# -*- coding: utf-8 -*-\n",
    "\n",
    "from WikidataTreeBuilderSPARQL import WikidataTreeBuilder\n",
    "from WikidataEntityExplorer import WikidataGetEntities\n",
    "\n",
    "from datetime import datetime\n",
    "import pandas as pd\n",
    "import simplejson as json"
   ]
  },
  {
   "cell_type": "markdown",
   "metadata": {},
   "source": [
    "Recursively explore the node 'Computer Science':"
   ]
  },
  {
   "cell_type": "code",
   "execution_count": null,
   "metadata": {
    "collapsed": false,
    "scrolled": true
   },
   "outputs": [],
   "source": [
    "tree=WikidataTreeBuilder(keepTraceVisitedNodes=True)\n",
    "\n",
    "print(\"Exploring 'Computer Science' start: \"+str(datetime.now()))\n",
    "flareComputerScience=tree.fromRoot(root=(\"Q21198\",\"Computer Science\"),forbidden=[])\n",
    "print(\"Exploring 'Computer Science' end: \"+str(datetime.now()))\n",
    "\n",
    "# Save the extraction result\n",
    "with open(\"outputComputerScience.json\",\"w\") as f:\n",
    "    json.dump(flareComputerScience,f)"
   ]
  },
  {
   "cell_type": "markdown",
   "metadata": {},
   "source": [
    "Convert the nested flare to list, and import it to a pandas dataframe:"
   ]
  },
  {
   "cell_type": "code",
   "execution_count": null,
   "metadata": {
    "collapsed": false
   },
   "outputs": [],
   "source": [
    "def nestedNodeExplore(nested):\n",
    "    if nested[\"name\"][0] != \"-1\":\n",
    "        flatFrame.append({\"id\":nested[\"name\"][0], \"name\":nested[\"name\"][1],\"visitedNodes\":nested[\"visitedNodes\"]})\n",
    "    for node in nested.get(\"children\",[]):\n",
    "        nestedNodeExplore(node)\n",
    "    return \"DONE\""
   ]
  },
  {
   "cell_type": "code",
   "execution_count": null,
   "metadata": {
    "collapsed": false
   },
   "outputs": [],
   "source": [
    "flatFrame = list()\n",
    "nestedNodeExplore(flareComputerScience)\n",
    "df=pd.DataFrame(flatFrame)\n",
    "\n",
    "#convert to tuple because list is not hashable and drop_duplicates will fail\n",
    "df[\"visitedNodes\"]=df[\"visitedNodes\"].apply(lambda x:tuple(x))\n",
    "df=df.drop_duplicates()\n",
    "\n",
    "df.head()"
   ]
  },
  {
   "cell_type": "markdown",
   "metadata": {},
   "source": [
    "There are many paths from the root to \"Natural Language Processing\":"
   ]
  },
  {
   "cell_type": "code",
   "execution_count": null,
   "metadata": {
    "collapsed": false
   },
   "outputs": [],
   "source": [
    "df[df[\"name\"]==\"natural language processing\"]"
   ]
  },
  {
   "cell_type": "markdown",
   "metadata": {},
   "source": [
    "For better readabilty of the result, we'll extract a conversion table from Q to name:"
   ]
  },
  {
   "cell_type": "code",
   "execution_count": null,
   "metadata": {
    "collapsed": false
   },
   "outputs": [],
   "source": [
    "Q2name={item[\"id\"]:item['name'] for item in df.drop(\"visitedNodes\",1).to_dict(orient='records')}"
   ]
  },
  {
   "cell_type": "markdown",
   "metadata": {},
   "source": [
    "and make the 'visited nodes' column human-readable:"
   ]
  },
  {
   "cell_type": "code",
   "execution_count": null,
   "metadata": {
    "collapsed": true
   },
   "outputs": [],
   "source": [
    "df[\"visitedNodes\"]=df[\"visitedNodes\"].apply(lambda x:tuple([(i,Q2name.get(i,i)) for i in x]))"
   ]
  },
  {
   "cell_type": "markdown",
   "metadata": {},
   "source": [
    "We will group all paths in a single entry:"
   ]
  },
  {
   "cell_type": "code",
   "execution_count": null,
   "metadata": {
    "collapsed": false
   },
   "outputs": [],
   "source": [
    "grouped=df.groupby(\"id\").apply(lambda x:x.visitedNodes)\n",
    "df[\"visitedNodes\"]=df[\"id\"].apply(lambda x:tuple(grouped[x]))\n",
    "df=df.drop_duplicates()"
   ]
  },
  {
   "cell_type": "code",
   "execution_count": null,
   "metadata": {
    "collapsed": false
   },
   "outputs": [],
   "source": [
    "df[df[\"name\"]==\"natural language processing\"]"
   ]
  },
  {
   "cell_type": "markdown",
   "metadata": {},
   "source": [
    "And now we will enrich the table with several other properties:"
   ]
  },
  {
   "cell_type": "code",
   "execution_count": null,
   "metadata": {
    "collapsed": false
   },
   "outputs": [],
   "source": [
    "getNewData=WikidataGetEntities()\n",
    "dfDict=df.to_dict(orient='records')\n",
    "dfUpdated=list ()\n",
    "print(\"Enriching database. Start : \"+str(datetime.now()))\n",
    "for item in dfDict:\n",
    "    item.update(getNewData.enrichTable(item))\n",
    "    dfUpdated.append(item)\n",
    "print(\"Enriching database. End : \"+str(datetime.now()))"
   ]
  },
  {
   "cell_type": "code",
   "execution_count": null,
   "metadata": {
    "collapsed": false
   },
   "outputs": [],
   "source": [
    "df=pd.DataFrame(dfUpdated)\n",
    "df=df.fillna(\"\")"
   ]
  },
  {
   "cell_type": "markdown",
   "metadata": {},
   "source": [
    "Make several columns human-readable:"
   ]
  },
  {
   "cell_type": "code",
   "execution_count": null,
   "metadata": {
    "collapsed": false
   },
   "outputs": [],
   "source": [
    "fillMissing=lambda c:getNewData.query(c).get(\"entities\",{}).get(c,{}).get(\"labels\",{}).get(\"en\",{}).get(\"value\",c)\n",
    "makeHumanReadable=lambda x:tuple([(i,Q2name.get(i,i)) if i in Q2name.keys() else (i,fillMissing(i))] for i in x)\n",
    "\n",
    "df[\"P306\"]=df[\"P306\"].apply(makeHumanReadable)\n",
    "df[\"P366\"]=df[\"P366\"].apply(makeHumanReadable)\n",
    "df[\"P277\"]=df[\"P277\"].apply(makeHumanReadable)\n",
    "df[\"P31\"]=df[\"P31\"].apply(makeHumanReadable)\n",
    "df[\"P275\"]=df[\"P275\"].apply(makeHumanReadable)\n",
    "df[\"P178\"]=df[\"P178\"].apply(makeHumanReadable)\n",
    "df[\"P101\"]=df[\"P101\"].apply(makeHumanReadable)"
   ]
  },
  {
   "cell_type": "markdown",
   "metadata": {},
   "source": [
    "Make column labels human-readable:"
   ]
  },
  {
   "cell_type": "code",
   "execution_count": null,
   "metadata": {
    "collapsed": false
   },
   "outputs": [],
   "source": [
    "for c in df.columns:\n",
    "    label=fillMissing(c)\n",
    "    nc=c+(\" (\"+label+\")\")*(label != c)\n",
    "    df=df.rename(columns={c:nc})\n",
    "df=df.reindex_axis(sorted(df.columns,reverse=True), axis=1)"
   ]
  },
  {
   "cell_type": "code",
   "execution_count": null,
   "metadata": {
    "collapsed": false,
    "scrolled": true
   },
   "outputs": [],
   "source": [
    "df.head()"
   ]
  },
  {
   "cell_type": "code",
   "execution_count": null,
   "metadata": {
    "collapsed": true
   },
   "outputs": [],
   "source": [
    "df.to_excel(\"ComputerScienceTable.xlsx\")"
   ]
  },
  {
   "cell_type": "code",
   "execution_count": null,
   "metadata": {
    "collapsed": true
   },
   "outputs": [],
   "source": []
  },
  {
   "cell_type": "code",
   "execution_count": null,
   "metadata": {
    "collapsed": true
   },
   "outputs": [],
   "source": []
  },
  {
   "cell_type": "code",
   "execution_count": null,
   "metadata": {
    "collapsed": true
   },
   "outputs": [],
   "source": []
  },
  {
   "cell_type": "code",
   "execution_count": null,
   "metadata": {
    "collapsed": true
   },
   "outputs": [],
   "source": []
  }
 ],
 "metadata": {
  "anaconda-cloud": {},
  "kernelspec": {
   "display_name": "Python (oml)",
   "language": "python",
   "name": "oml"
  },
  "language_info": {
   "codemirror_mode": {
    "name": "ipython",
    "version": 2
   },
   "file_extension": ".py",
   "mimetype": "text/x-python",
   "name": "python",
   "nbconvert_exporter": "python",
   "pygments_lexer": "ipython2",
   "version": "2.7.12"
  }
 },
 "nbformat": 4,
 "nbformat_minor": 2
}
